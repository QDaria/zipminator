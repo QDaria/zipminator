{
 "cells": [
  {
   "cell_type": "markdown",
   "id": "1873ef07-acfb-4941-b902-95ecac759cea",
   "metadata": {},
   "source": [
    "# Example usage"
   ]
  },
  {
   "cell_type": "markdown",
   "id": "aa36044b-4074-4a29-97d7-f55359647e9b",
   "metadata": {},
   "source": [
    "## zipit"
   ]
  },
  {
   "cell_type": "code",
   "execution_count": 1,
   "id": "62a798e8-34d5-4821-be1c-a603fcc17641",
   "metadata": {},
   "outputs": [],
   "source": [
    "from zipminator.zipit import Zipndel\n",
    "import pandas as pd\n",
    "import getpass\n",
    "import zipfile\n",
    "import os"
   ]
  },
  {
   "cell_type": "markdown",
   "id": "99df8a23-9054-40d5-8e72-9363ec764128",
   "metadata": {},
   "source": [
    "### create instance of Zipndel and call zipit method"
   ]
  },
  {
   "cell_type": "code",
   "execution_count": 2,
   "id": "5e1ed274-3268-4dea-ad08-32903fbff626",
   "metadata": {},
   "outputs": [
    {
     "name": "stdout",
     "output_type": "stream",
     "text": [
      "Password: ········\n",
      "updating: df (stored 0%)\n"
     ]
    }
   ],
   "source": [
    "zipndel = Zipndel(file_name='df', file_format='csv')\n",
    "df = pd.DataFrame({'A': [1, 2, 3], 'B': [4, 5, 6], 'C': [7, 8, 9]})\n",
    "zipndel.zipit(df)"
   ]
  },
  {
   "cell_type": "markdown",
   "id": "5add7785-74ed-47ad-9d8e-c01f4cb139ab",
   "metadata": {},
   "source": [
    "## unzipit"
   ]
  },
  {
   "cell_type": "markdown",
   "id": "d2aa5282-6226-4e0b-837a-70bd86609b81",
   "metadata": {},
   "source": [
    "### create instance of Unzipndel and call unzipit method"
   ]
  },
  {
   "cell_type": "code",
   "execution_count": 5,
   "id": "d5260875-5b83-482e-ac29-393ee8081e0b",
   "metadata": {},
   "outputs": [],
   "source": [
    "from zipminator.unzipit import Unzipndel"
   ]
  },
  {
   "cell_type": "code",
   "execution_count": 6,
   "id": "c9f075f8-ed6d-4931-a451-d53a2b3a984e",
   "metadata": {},
   "outputs": [
    {
     "name": "stdout",
     "output_type": "stream",
     "text": [
      "Password: ········\n"
     ]
    },
    {
     "data": {
      "text/html": [
       "<div>\n",
       "<style scoped>\n",
       "    .dataframe tbody tr th:only-of-type {\n",
       "        vertical-align: middle;\n",
       "    }\n",
       "\n",
       "    .dataframe tbody tr th {\n",
       "        vertical-align: top;\n",
       "    }\n",
       "\n",
       "    .dataframe thead th {\n",
       "        text-align: right;\n",
       "    }\n",
       "</style>\n",
       "<table border=\"1\" class=\"dataframe\">\n",
       "  <thead>\n",
       "    <tr style=\"text-align: right;\">\n",
       "      <th></th>\n",
       "      <th>A</th>\n",
       "      <th>B</th>\n",
       "      <th>C</th>\n",
       "    </tr>\n",
       "  </thead>\n",
       "  <tbody>\n",
       "    <tr>\n",
       "      <th>0</th>\n",
       "      <td>1</td>\n",
       "      <td>4</td>\n",
       "      <td>7</td>\n",
       "    </tr>\n",
       "    <tr>\n",
       "      <th>1</th>\n",
       "      <td>2</td>\n",
       "      <td>5</td>\n",
       "      <td>8</td>\n",
       "    </tr>\n",
       "    <tr>\n",
       "      <th>2</th>\n",
       "      <td>3</td>\n",
       "      <td>6</td>\n",
       "      <td>9</td>\n",
       "    </tr>\n",
       "  </tbody>\n",
       "</table>\n",
       "</div>"
      ],
      "text/plain": [
       "   A  B  C\n",
       "0  1  4  7\n",
       "1  2  5  8\n",
       "2  3  6  9"
      ]
     },
     "execution_count": 6,
     "metadata": {},
     "output_type": "execute_result"
    }
   ],
   "source": [
    "unzipndel = Unzipndel(file_name='df', file_format='csv')\n",
    "df = unzipndel.unzipit()\n",
    "df"
   ]
  },
  {
   "cell_type": "code",
   "execution_count": null,
   "id": "8423fc4e-9b9d-4736-9bba-f9bb64b029b7",
   "metadata": {},
   "outputs": [],
   "source": []
  },
  {
   "cell_type": "code",
   "execution_count": null,
   "id": "434a9d1b-e2fe-4f16-8c3c-d9211a216b14",
   "metadata": {},
   "outputs": [],
   "source": []
  },
  {
   "cell_type": "code",
   "execution_count": 6,
   "id": "f8cb7f24-fd9b-4b46-ba15-1621cd0fc34a",
   "metadata": {},
   "outputs": [],
   "source": [
    "import pandas as pd\n",
    "import getpass\n",
    "import pyzipper\n",
    "import os\n",
    "import time\n",
    "import datetime\n",
    "import hashlib\n",
    "import zipfile\n"
   ]
  },
  {
   "cell_type": "code",
   "execution_count": 8,
   "id": "6acd1c63-588e-484c-a91c-3ad7909e3545",
   "metadata": {},
   "outputs": [],
   "source": [
    "class Zipndel:\n",
    "    def __init__(self, file_name: str = 'df', file_format: str = 'csv', self_destruct_time=None):\n",
    "        \"\"\"\n",
    "        Initialize Zipndel object.\n",
    "\n",
    "        Parameters:\n",
    "        file_name (str): the name of the file to be written, default is 'df'\n",
    "        file_format (str): the file format of the file to be written, default is 'csv'\n",
    "        self_destruct_time (tuple): a tuple of (hours, minutes, seconds) until self-destruct, default is None\n",
    "        \"\"\"\n",
    "        self.file_name = file_name\n",
    "        self.file_format = file_format\n",
    "        self.self_destruct_time = self_destruct_time\n",
    "\n",
    "    def zipit(self, df: pd.DataFrame) -> None:\n",
    "        \"\"\"\n",
    "        Write the input dataframe to a file, create a zip file with the written file, set a password for the zip file,\n",
    "        hash the password with sha256, and delete the written file.\n",
    "\n",
    "        Parameters:\n",
    "        df (pd.DataFrame): the input dataframe to be written to file and zipped\n",
    "\n",
    "        Example:\n",
    "        >>> df = pd.DataFrame({'A': [1, 2, 3], 'B': [4, 5, 6], 'C': [7, 8, 9]})\n",
    "        >>> Zipndel().zipit(df)\n",
    "        \"\"\"\n",
    "        # write dataframe to a pandas supported file\n",
    "        write_func = getattr(df, f'to_{self.file_format}')\n",
    "        write_func(self.file_name, index=False)\n",
    "\n",
    "        # create zip file and add the written file to it\n",
    "        df_zip = f\"{self.file_name}.zip\"\n",
    "        with pyzipper.AESZipFile(df_zip, 'w', compression=pyzipper.ZIP_DEFLATED, encryption=pyzipper.WZ_AES) as zf:\n",
    "            zf.setpassword(bytes(getpass.getpass('Password:'), 'utf-8'))\n",
    "            zf.write(self.file_name)\n",
    "\n",
    "        # hash the password with sha256\n",
    "        with open(df_zip, \"rb\") as f_in, zipfile.ZipFile(df_zip + \".tmp\", \"w\", compression=zipfile.ZIP_DEFLATED) as f_out:\n",
    "            sha256_pw = hashlib.sha256(zf._encryption_key).digest()\n",
    "            f_out.setpassword(sha256_pw)\n",
    "            f_out.writestr(os.path.basename(df_zip), f_in.read())\n",
    "\n",
    "        # replace original zip file with the hashed zip file\n",
    "        os.replace(df_zip + \".tmp\", df_zip)\n",
    "\n",
    "        # delete written file\n",
    "        os.remove(self.file_name)\n",
    "\n",
    "        # self-destruct timer\n",
    "        if self.self_destruct_time is not None:\n",
    "            hours, minutes, seconds = self.self_destruct_time\n",
    "            self.self_destruct(hours, minutes, seconds)\n",
    "\n",
    "    def self_destruct(self, hours: int, minutes: int, seconds: int) -> None:\n",
    "        \"\"\"\n",
    "        Set the self-destruct timer for the zip file.\n",
    "\n",
    "        Parameters:\n",
    "        hours (int): number of hours until self-destruct\n",
    "        minutes (int): number of minutes until self-destruct\n",
    "        seconds (int): number of seconds until self-destruct\n",
    "        \"\"\"\n",
    "        df_zip = f\"{self.file_name}.zip\"\n",
    "        self_destruct_time = time.time() + hours * 60 * 60 + minutes * 60 + seconds\n",
    "        while True:\n",
    "            if time.time() > self_destruct_time:\n",
    "                os.remove(df_zip)\n",
    "                print(\n",
    "                    f\"{datetime.datetime.now().strftime('%Y-%m-%d %H:%M:%S')} - Zip file deleted due to self-destruct timer.\")\n",
    "                break\n",
    "            time.sleep(5)\n",
    "\n"
   ]
  },
  {
   "cell_type": "code",
   "execution_count": 9,
   "id": "358353c4-67b0-4f14-88d3-435fc2347951",
   "metadata": {},
   "outputs": [],
   "source": [
    "df = pd.DataFrame({'A': [1, 2, 3], 'B': [4, 5, 6], 'C': [7, 8, 9]})"
   ]
  },
  {
   "cell_type": "code",
   "execution_count": 10,
   "id": "669523d3-8c76-46c7-98bb-b54ca3a5585b",
   "metadata": {},
   "outputs": [],
   "source": [
    "# create a Zipndel object with self-destruct timer\n",
    "zipper = Zipndel(file_name='test_file', file_format='csv', self_destruct_time=(0, 1, 0))"
   ]
  },
  {
   "cell_type": "code",
   "execution_count": 11,
   "id": "73c04c7d-80fd-49f5-be52-4781f3ec1a1f",
   "metadata": {},
   "outputs": [
    {
     "name": "stdin",
     "output_type": "stream",
     "text": [
      "Password: ········\n"
     ]
    },
    {
     "ename": "AttributeError",
     "evalue": "'AESZipFile' object has no attribute '_encryption_key'",
     "output_type": "error",
     "traceback": [
      "\u001b[0;31m---------------------------------------------------------------------------\u001b[0m",
      "\u001b[0;31mAttributeError\u001b[0m                            Traceback (most recent call last)",
      "Cell \u001b[0;32mIn[11], line 2\u001b[0m\n\u001b[1;32m      1\u001b[0m \u001b[38;5;66;03m# zip the dataframe with password protection and hashed password\u001b[39;00m\n\u001b[0;32m----> 2\u001b[0m \u001b[43mzipper\u001b[49m\u001b[38;5;241;43m.\u001b[39;49m\u001b[43mzipit\u001b[49m\u001b[43m(\u001b[49m\u001b[43mdf\u001b[49m\u001b[43m)\u001b[49m\n",
      "Cell \u001b[0;32mIn[8], line 39\u001b[0m, in \u001b[0;36mZipndel.zipit\u001b[0;34m(self, df)\u001b[0m\n\u001b[1;32m     37\u001b[0m \u001b[38;5;66;03m# hash the password with sha256\u001b[39;00m\n\u001b[1;32m     38\u001b[0m \u001b[38;5;28;01mwith\u001b[39;00m \u001b[38;5;28mopen\u001b[39m(df_zip, \u001b[38;5;124m\"\u001b[39m\u001b[38;5;124mrb\u001b[39m\u001b[38;5;124m\"\u001b[39m) \u001b[38;5;28;01mas\u001b[39;00m f_in, zipfile\u001b[38;5;241m.\u001b[39mZipFile(df_zip \u001b[38;5;241m+\u001b[39m \u001b[38;5;124m\"\u001b[39m\u001b[38;5;124m.tmp\u001b[39m\u001b[38;5;124m\"\u001b[39m, \u001b[38;5;124m\"\u001b[39m\u001b[38;5;124mw\u001b[39m\u001b[38;5;124m\"\u001b[39m, compression\u001b[38;5;241m=\u001b[39mzipfile\u001b[38;5;241m.\u001b[39mZIP_DEFLATED) \u001b[38;5;28;01mas\u001b[39;00m f_out:\n\u001b[0;32m---> 39\u001b[0m     sha256_pw \u001b[38;5;241m=\u001b[39m hashlib\u001b[38;5;241m.\u001b[39msha256(\u001b[43mzf\u001b[49m\u001b[38;5;241;43m.\u001b[39;49m\u001b[43m_encryption_key\u001b[49m)\u001b[38;5;241m.\u001b[39mdigest()\n\u001b[1;32m     40\u001b[0m     f_out\u001b[38;5;241m.\u001b[39msetpassword(sha256_pw)\n\u001b[1;32m     41\u001b[0m     f_out\u001b[38;5;241m.\u001b[39mwritestr(os\u001b[38;5;241m.\u001b[39mpath\u001b[38;5;241m.\u001b[39mbasename(df_zip), f_in\u001b[38;5;241m.\u001b[39mread())\n",
      "\u001b[0;31mAttributeError\u001b[0m: 'AESZipFile' object has no attribute '_encryption_key'"
     ]
    }
   ],
   "source": [
    "# zip the dataframe with password protection and hashed password\n",
    "zipper.zipit(df)"
   ]
  },
  {
   "cell_type": "code",
   "execution_count": 16,
   "id": "a7baac44-c521-4d82-b405-76eb492a170e",
   "metadata": {},
   "outputs": [],
   "source": [
    "import pandas as pd\n",
    "import getpass\n",
    "import pyzipper\n",
    "import zipfile\n",
    "import os\n",
    "import time\n",
    "import datetime\n",
    "import hashlib\n",
    "\n",
    "class Zipndel:\n",
    "    def __init__(self, file_name: str = 'df', file_format: str = 'csv', self_destruct_time=None):\n",
    "        \"\"\"\n",
    "        Initialize Zipndel object.\n",
    "\n",
    "        Parameters:\n",
    "        file_name (str): the name of the file to be written, default is 'df'\n",
    "        file_format (str): the file format of the file to be written, default is 'csv'\n",
    "        self_destruct_time (tuple): a tuple of (hours, minutes, seconds) until self-destruct, default is None\n",
    "        \"\"\"\n",
    "        self.file_name = file_name\n",
    "        self.file_format = file_format\n",
    "        self.self_destruct_time = self_destruct_time\n",
    "        \n",
    "    def zipit(self, df: pd.DataFrame) -> None:\n",
    "        \"\"\"\n",
    "        Write the input dataframe to a file, create a zip file with the written file, set a password for the zip file,\n",
    "        hash the password with sha256, and delete the written file.\n",
    "\n",
    "        Parameters:\n",
    "        df (pd.DataFrame): the input dataframe to be written to file and zipped\n",
    "\n",
    "        Example:\n",
    "        >>> df = pd.DataFrame({'A': [1, 2, 3], 'B': [4, 5, 6], 'C': [7, 8, 9]})\n",
    "        >>> Zipndel().zipit(df)\n",
    "        \"\"\"\n",
    "        # write dataframe to a pandas supported file\n",
    "        write_func = getattr(df, f'to_{self.file_format}')\n",
    "        write_func(self.file_name, index=False)\n",
    "\n",
    "        # create zip file and add the written file to it\n",
    "        df_zip = f\"{self.file_name}.zip\"\n",
    "        with pyzipper.AESZipFile(df_zip, 'w', compression=pyzipper.ZIP_DEFLATED, encryption=pyzipper.WZ_AES) as zf:\n",
    "            password = bytes(getpass.getpass('Password:'), 'utf-8')\n",
    "            zf.setpassword(password)\n",
    "            zf.write(self.file_name)\n",
    "\n",
    "        # get zip info and hash the password with sha256\n",
    "        zip_info = zipfile.ZipFile(df_zip + \".tmp\", \"w\", compression=zipfile.ZIP_STORED)\n",
    "        sha256_pw = hashlib.sha256(password).digest()\n",
    "\n",
    "        # write the hashed password to a temporary zip file\n",
    "        with open(df_zip, \"rb\") as f_in, zipfile.ZipFile(df_zip + \".tmp\", \"w\", compression=zipfile.ZIP_DEFLATED) as f_out:\n",
    "            f_out.setpassword(sha256_pw)\n",
    "            f_out.writestr(zip_info, f_in.read())\n",
    "\n",
    "        # replace original zip file with the hashed zip file\n",
    "        os.replace(df_zip + \".tmp\", df_zip)\n",
    "\n",
    "        # delete written file\n",
    "        os.remove(self.file_name)\n",
    "\n",
    "        # self-destruct timer\n",
    "        if self.self_destruct_time is not None:\n",
    "            hours, minutes, seconds = self.self_destruct_time\n",
    "            self.self_destruct(hours, minutes, seconds)\n",
    "\n",
    "\n",
    "    def self_destruct(self, hours: int, minutes: int, seconds: int) -> None:\n",
    "        \"\"\"\n",
    "        Set the self-destruct timer for the zip file.\n",
    "\n",
    "        Parameters:\n",
    "        hours (int): number of hours until self-destruct\n",
    "        minutes (int): number of minutes until self-destruct\n",
    "        seconds (int): number of seconds until self-destruct\n",
    "        \"\"\"\n",
    "        df_zip = f\"{self.file_name}.zip\"\n",
    "        self_destruct_time = time.time() + hours * 60 * 60 + minutes * 60 + seconds\n",
    "        while True:\n",
    "            if time.time() > self_destruct_time:\n",
    "                os.remove(df_zip)\n",
    "                print(\n",
    "                    f\"{datetime.datetime.now().strftime('%Y-%m-%d %H:%M:%S')} - Zip file deleted due to self-destruct timer.\")\n",
    "                break\n",
    "            time.sleep(5)"
   ]
  },
  {
   "cell_type": "code",
   "execution_count": 20,
   "id": "66a24740-67d4-49be-91e4-4cacdedb5d0b",
   "metadata": {},
   "outputs": [],
   "source": [
    "import pandas as pd\n",
    "import getpass\n",
    "import pyzipper\n",
    "import os\n",
    "import time\n",
    "import datetime\n",
    "import hashlib\n",
    "import zipfile\n",
    "\n",
    "class Zipndel:\n",
    "    def __init__(self, file_name: str = 'df', file_format: str = 'csv', self_destruct_time=None):\n",
    "        \"\"\"\n",
    "        Initialize Zipndel object.\n",
    "        \n",
    "        Parameters:\n",
    "        file_name (str): the name of the file to be written, default is 'df'\n",
    "        file_format (str): the file format of the file to be written, default is 'csv'\n",
    "        self_destruct_time (tuple): a tuple of (hours, minutes, seconds) until self-destruct, default is None\n",
    "        \"\"\"\n",
    "        self.file_name = file_name\n",
    "        self.file_format = file_format\n",
    "        self.self_destruct_time = self_destruct_time\n",
    "\n",
    "    def zipit(self, df: pd.DataFrame) -> None:\n",
    "        \"\"\"\n",
    "        Write the input dataframe to a file, create a zip file with the written file, set a password for the zip file,\n",
    "        hash the password with sha256, and delete the written file.\n",
    "\n",
    "        Parameters:\n",
    "        df (pd.DataFrame): the input dataframe to be written to file and zipped\n",
    "\n",
    "        Example:\n",
    "        >>> df = pd.DataFrame({'A': [1, 2, 3], 'B': [4, 5, 6], 'C': [7, 8, 9]})\n",
    "        >>> Zipndel().zipit(df)\n",
    "        \"\"\"\n",
    "        # write dataframe to a pandas supported file\n",
    "        write_func = getattr(df, f'to_{self.file_format}')\n",
    "        write_func(self.file_name, index=False)\n",
    "\n",
    "        # create zip file and add the written file to it\n",
    "        df_zip = f\"{self.file_name}.zip\"\n",
    "        with pyzipper.AESZipFile(df_zip, 'w', compression=pyzipper.ZIP_DEFLATED, encryption=pyzipper.WZ_AES) as zf:\n",
    "            pwd = bytes(getpass.getpass('Password:'), 'utf-8')\n",
    "            zf.setpassword(pwd)\n",
    "            zf.write(self.file_name)\n",
    "\n",
    "        # hash the password with sha256\n",
    "        with open(df_zip, \"rb\") as f_in, zipfile.ZipFile(df_zip + \".tmp\", \"w\", compression=zipfile.ZIP_DEFLATED) as f_out:\n",
    "            sha256_pw = hashlib.sha256(pwd).digest()\n",
    "            f_out.setpassword(sha256_pw)\n",
    "            f_out.write(self.file_name, os.path.basename(self.file_name))\n",
    "\n",
    "        # replace original zip file with the hashed zip file\n",
    "        os.replace(df_zip + \".tmp\", df_zip)\n",
    "\n",
    "        # delete written file\n",
    "        os.remove(self.file_name)\n",
    "\n",
    "        # self-destruct timer\n",
    "        if self.self_destruct_time is not None:\n",
    "            hours, minutes, seconds = self.self_destruct_time\n",
    "            self.self_destruct(hours, minutes, seconds)\n",
    "\n",
    "    def self_destruct(self, hours: int, minutes: int, seconds: int) -> None:\n",
    "        \"\"\"\n",
    "        Set the self-destruct timer for the zip file.\n",
    "​\n",
    "        Parameters:\n",
    "        hours (int): number of hours until self-destruct\n",
    "        minutes (int): number of minutes until self-destruct\n",
    "        seconds (int): number of seconds until self-destruct\n",
    "        \"\"\"\n",
    "        df_zip = f\"{self.file_name}.zip\"\n",
    "        self_destruct_time = time.time() + hours * 60 * 60 + minutes * 60 + seconds\n",
    "        while True:\n",
    "            if time.time() > self_destruct_time:\n",
    "                os.remove(df_zip)\n",
    "                print(\n",
    "                    f\"{datetime.datetime.now().strftime('%Y-%m-%d %H:%M:%S')} - Zip file deleted due to self-destruct timer.\")\n",
    "                break\n",
    "            time.sleep(5)\n",
    "\n"
   ]
  },
  {
   "cell_type": "code",
   "execution_count": 21,
   "id": "d3a7dba1-2997-4d7e-b7ea-9e6fcfaa5b0a",
   "metadata": {},
   "outputs": [],
   "source": [
    "df = pd.DataFrame({'A': [1, 2, 3], 'B': [4, 5, 6], 'C': [7, 8, 9]})"
   ]
  },
  {
   "cell_type": "code",
   "execution_count": 22,
   "id": "449252b8-94a4-466d-bf17-2f9f21d2b0d6",
   "metadata": {},
   "outputs": [],
   "source": [
    "# create a Zipndel object with self-destruct timer\n",
    "zipper = Zipndel(file_name='test_file', file_format='csv', self_destruct_time=(0, 1, 0))"
   ]
  },
  {
   "cell_type": "code",
   "execution_count": 23,
   "id": "797cf5b7-f35e-4fb1-a8b4-329734e5f0cb",
   "metadata": {},
   "outputs": [
    {
     "name": "stdin",
     "output_type": "stream",
     "text": [
      "Password: ········\n"
     ]
    },
    {
     "ename": "AttributeError",
     "evalue": "'AESZipFile' object has no attribute '_encryption_key'",
     "output_type": "error",
     "traceback": [
      "\u001b[0;31m---------------------------------------------------------------------------\u001b[0m",
      "\u001b[0;31mAttributeError\u001b[0m                            Traceback (most recent call last)",
      "Cell \u001b[0;32mIn[23], line 2\u001b[0m\n\u001b[1;32m      1\u001b[0m \u001b[38;5;66;03m# zip the dataframe with password protection and hashed password\u001b[39;00m\n\u001b[0;32m----> 2\u001b[0m \u001b[43mzipper\u001b[49m\u001b[38;5;241;43m.\u001b[39;49m\u001b[43mzipit\u001b[49m\u001b[43m(\u001b[49m\u001b[43mdf\u001b[49m\u001b[43m)\u001b[49m\n",
      "Cell \u001b[0;32mIn[20], line 48\u001b[0m, in \u001b[0;36mZipndel.zipit\u001b[0;34m(self, df)\u001b[0m\n\u001b[1;32m     46\u001b[0m \u001b[38;5;66;03m# hash the password with sha256\u001b[39;00m\n\u001b[1;32m     47\u001b[0m \u001b[38;5;28;01mwith\u001b[39;00m \u001b[38;5;28mopen\u001b[39m(df_zip, \u001b[38;5;124m\"\u001b[39m\u001b[38;5;124mrb\u001b[39m\u001b[38;5;124m\"\u001b[39m) \u001b[38;5;28;01mas\u001b[39;00m f_in, zipfile\u001b[38;5;241m.\u001b[39mZipFile(df_zip \u001b[38;5;241m+\u001b[39m \u001b[38;5;124m\"\u001b[39m\u001b[38;5;124m.tmp\u001b[39m\u001b[38;5;124m\"\u001b[39m, \u001b[38;5;124m\"\u001b[39m\u001b[38;5;124mw\u001b[39m\u001b[38;5;124m\"\u001b[39m, compression\u001b[38;5;241m=\u001b[39mzipfile\u001b[38;5;241m.\u001b[39mZIP_DEFLATED) \u001b[38;5;28;01mas\u001b[39;00m f_out:\n\u001b[0;32m---> 48\u001b[0m     sha256_pw \u001b[38;5;241m=\u001b[39m hashlib\u001b[38;5;241m.\u001b[39msha256(\u001b[43mzf\u001b[49m\u001b[38;5;241;43m.\u001b[39;49m\u001b[43m_encryption_key\u001b[49m)\u001b[38;5;241m.\u001b[39mdigest()\n\u001b[1;32m     49\u001b[0m     f_out\u001b[38;5;241m.\u001b[39msetpassword(sha256_pw)\n\u001b[1;32m     50\u001b[0m     zip_info \u001b[38;5;241m=\u001b[39m os\u001b[38;5;241m.\u001b[39mpath\u001b[38;5;241m.\u001b[39mbasename(df_zip)\n",
      "\u001b[0;31mAttributeError\u001b[0m: 'AESZipFile' object has no attribute '_encryption_key'"
     ]
    }
   ],
   "source": [
    "# zip the dataframe with password protection and hashed password\n",
    "zipper.zipit(df)"
   ]
  },
  {
   "cell_type": "code",
   "execution_count": null,
   "id": "64c11fcd-1384-4aa2-a278-34c5090f242e",
   "metadata": {},
   "outputs": [],
   "source": []
  }
 ],
 "metadata": {
  "kernelspec": {
   "display_name": "zenv",
   "language": "python",
   "name": "zenv"
  },
  "language_info": {
   "codemirror_mode": {
    "name": "ipython",
    "version": 3
   },
   "file_extension": ".py",
   "mimetype": "text/x-python",
   "name": "python",
   "nbconvert_exporter": "python",
   "pygments_lexer": "ipython3",
   "version": "3.9.16"
  },
  "vscode": {
   "interpreter": {
    "hash": "aee8b7b246df8f9039afb4144a1f6fd8d2ca17a180786b69acc140d282b71a49"
   }
  },
  "widgets": {
   "application/vnd.jupyter.widget-state+json": {
    "state": {},
    "version_major": 2,
    "version_minor": 0
   }
  }
 },
 "nbformat": 4,
 "nbformat_minor": 5
}
