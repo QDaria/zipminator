from zipminator.unzipit import Unzipndel
import pandas as pd
import getpass
import zipfile
import os

unzipndel = Unzipndel(file_name='df', file_format='csv')
df = unzipndel.unzipit()
df.head()
