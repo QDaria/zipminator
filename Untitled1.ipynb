{
 "cells": [
  {
   "cell_type": "code",
   "execution_count": 1,
   "id": "9e4f3698-c3a9-4762-b285-9aa6c923c8db",
   "metadata": {},
   "outputs": [],
   "source": [
    "# zipminator/zipit.py\n",
    "import os\n",
    "import getpass\n",
    "import threading\n",
    "import time\n",
    "import pandas as pd\n",
    "import pyzipper\n",
    "import datetime\n",
    "\n",
    "\n",
    "class Zipndel:\n",
    "    def __init__(self, file_name: str = 'df', file_format: str = 'csv', self_destruct_time: tuple = (672, 0, 0), password: str = None):\n",
    "        \"\"\"\n",
    "        Initialize Zipndel object.\n",
    "\n",
    "        Parameters:\n",
    "        file_name (str): the name of the file to be written, default is 'df'\n",
    "        file_format (str): the file format of the file to be written, default is 'csv'\n",
    "        self_destruct_time (tuple): a tuple of (hours, minutes, seconds) until self-destruct, default is (672, 0, 0)\n",
    "        password (str): the password to use for the zip file, default is None\n",
    "        \"\"\"\n",
    "        self.file_name = file_name\n",
    "        self.file_format = file_format\n",
    "        self.self_destruct_time = self_destruct_time\n",
    "        self.password = password\n",
    "\n",
    "    def zipit(self, df: pd.DataFrame) -> None:\n",
    "        \"\"\"\n",
    "        Write the input dataframe to a file, create a zip file with the written file, set a password for the zip file,\n",
    "        and delete the written file.\n",
    "\n",
    "        Parameters:\n",
    "        df (pd.DataFrame): the input dataframe to be written to file and zipped\n",
    "\n",
    "        Example:\n",
    "        >>> df = pd.DataFrame({'A': [1, 2, 3], 'B': [4, 5, 6], 'C': [7, 8, 9]})\n",
    "        >>> Zipndel().zipit(df)\n",
    "        \"\"\"\n",
    "        # write dataframe to a pandas supported file\n",
    "        write_func = getattr(df, f'to_{self.file_format}')\n",
    "        write_func(self.file_name, index=False)\n",
    "\n",
    "        # create zip file and add the written file to it\n",
    "        df_zip = f\"{self.file_name}.zip\"\n",
    "        with pyzipper.AESZipFile(df_zip, 'w', compression=pyzipper.ZIP_DEFLATED, encryption=pyzipper.WZ_AES) as zf:\n",
    "            if self.password is None:\n",
    "                self.password = getpass.getpass('Enter password: ')\n",
    "            zf.setpassword(self.password.encode('utf-8'))\n",
    "            zf.write(self.file_name)\n",
    "\n",
    "        # delete written file\n",
    "        os.remove(self.file_name)\n",
    "\n",
    "        # self-destruct timer\n",
    "        if self.self_destruct_time and self.self_destruct_time != False:\n",
    "            t = threading.Thread(target=self.self_destruct,\n",
    "                                 args=self.self_destruct_time)\n",
    "            t.start()\n",
    "\n",
    "    def self_destruct(self, hours: int, minutes: int, seconds: int) -> None:\n",
    "        \"\"\"\n",
    "        Set the self-destruct timer for the zip file.\n",
    "\n",
    "        Parameters:\n",
    "        hours (int): number of hours until self-destruct\n",
    "        minutes (int): number of minutes until self-destruct\n",
    "        seconds (int): number of seconds until self-destruct\n",
    "        \"\"\"\n",
    "        df_zip = f\"{self.file_name}.zip\"\n",
    "        self_destruct_time = time.time() + hours * 60 * 60 + minutes * 60 + seconds\n",
    "        while True:\n",
    "            if time.time() > self_destruct_time:\n",
    "                os.remove(df_zip)\n",
    "                print(\n",
    "                    f\"{datetime.datetime.now().strftime('%Y-%m-%d %H:%M:%S')} - Zip file deleted due to self-destruct timer.\")\n",
    "                break\n",
    "            time.sleep(5)\n"
   ]
  },
  {
   "cell_type": "code",
   "execution_count": 5,
   "id": "b68ff1aa-f236-4486-9e17-2ece9a9f4e24",
   "metadata": {},
   "outputs": [
    {
     "name": "stdin",
     "output_type": "stream",
     "text": [
      "Enter password:  ········\n"
     ]
    }
   ],
   "source": [
    "df = pd.DataFrame({'A': [1, 2, 3], 'B': [4, 5, 6], 'C': [7, 8, 9]})\n",
    "# Create a Zipndel object\n",
    "zipper = Zipndel(file_name='my_file', file_format='csv')\n",
    "\n",
    "# Zip the dataframe\n",
    "zipper.zipit(df=df)\n"
   ]
  },
  {
   "cell_type": "code",
   "execution_count": 6,
   "id": "b99db71b-2288-43b7-bc31-3065023a2966",
   "metadata": {},
   "outputs": [
    {
     "name": "stdout",
     "output_type": "stream",
     "text": [
      "2023-03-06 21:14:11 - Zip file deleted due to self-destruct timer.\n"
     ]
    }
   ],
   "source": [
    "# Create an instance of Zipndel with password protection and self-destruct timer\n",
    "zipper = Zipndel(file_name='my_data', file_format='csv', password='my_password', self_destruct_time=(0, 0, 10))\n",
    "\n",
    "# Zip the DataFrame with password protection and self-destruct timer\n",
    "zipper.zipit(df=df)\n"
   ]
  },
  {
   "cell_type": "code",
   "execution_count": null,
   "id": "382a84ea-99f6-4c05-8001-2f5eda38fb6c",
   "metadata": {},
   "outputs": [],
   "source": []
  },
  {
   "cell_type": "code",
   "execution_count": null,
   "id": "dd95eecf-85f6-4647-9e62-427f95ed6b3c",
   "metadata": {},
   "outputs": [],
   "source": [
    "\n"
   ]
  }
 ],
 "metadata": {
  "kernelspec": {
   "display_name": "Python 3 (ipykernel)",
   "language": "python",
   "name": "python3"
  },
  "language_info": {
   "codemirror_mode": {
    "name": "ipython",
    "version": 3
   },
   "file_extension": ".py",
   "mimetype": "text/x-python",
   "name": "python",
   "nbconvert_exporter": "python",
   "pygments_lexer": "ipython3",
   "version": "3.8.16"
  },
  "widgets": {
   "application/vnd.jupyter.widget-state+json": {
    "state": {},
    "version_major": 2,
    "version_minor": 0
   }
  }
 },
 "nbformat": 4,
 "nbformat_minor": 5
}
