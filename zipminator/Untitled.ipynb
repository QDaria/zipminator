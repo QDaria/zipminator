{
 "cells": [
  {
   "cell_type": "code",
   "execution_count": 1,
   "id": "0854cd5e-6c20-42bc-baf7-1d255d941eab",
   "metadata": {},
   "outputs": [],
   "source": [
    "import pandas as pd\n",
    "import getpass\n",
    "import zipfile\n",
    "import os\n",
    "import time\n",
    "import datetime\n"
   ]
  },
  {
   "cell_type": "code",
   "execution_count": 2,
   "id": "f6366db7-e31b-49cf-ad9e-e2407b5e0731",
   "metadata": {},
   "outputs": [],
   "source": [
    "class Zipndel:\n",
    "    def __init__(self, file_name: str = 'df', file_format: str = 'csv'):\n",
    "        \"\"\"\n",
    "        Initialize Zipndel object.\n",
    "\n",
    "        Parameters:\n",
    "        file_name (str): the name of the file to be written, default is 'df'\n",
    "        file_format (str): the file format of the file to be written, default is 'csv'\n",
    "        \"\"\"\n",
    "        self.file_name = file_name\n",
    "        self.file_format = file_format\n",
    "\n",
    "    def zipit(self, df: pd.DataFrame) -> None:\n",
    "        \"\"\"\n",
    "        Write the input dataframe to a file, create a zip file with the written file, set a password for the zip file, and delete the written file.\n",
    "\n",
    "        Parameters:\n",
    "        df (pd.DataFrame): the input dataframe to be written to file and zipped\n",
    "\n",
    "        Example:\n",
    "        >>> df = pd.DataFrame({'A': [1, 2, 3], 'B': [4, 5, 6], 'C': [7, 8, 9]})\n",
    "        >>> Zipndel().zipit(df)\n",
    "        \"\"\"\n",
    "        # write dataframe to a pandas supported file\n",
    "        write_func = getattr(df, f'to_{self.file_format}')\n",
    "        write_func(self.file_name, index=False)\n",
    "\n",
    "        # create zip file and add the written file to it\n",
    "        df_zip = f\"{self.file_name}.zip\"\n",
    "        zf = zipfile.ZipFile(df_zip, mode='w')\n",
    "        try:\n",
    "            zf.write(self.file_name, compress_type=zipfile.ZIP_DEFLATED)\n",
    "        finally:\n",
    "            zf.close()\n",
    "\n",
    "        # set password for zip file\n",
    "        passwd = getpass.getpass('Password:')\n",
    "        os.system(f'zip --password {passwd} {df_zip} {self.file_name}')\n",
    "\n",
    "        # delete written file\n",
    "        os.remove(self.file_name)\n",
    "\n",
    "        # set self-destruct timer for the zip file\n",
    "        days = int(input(\"Enter number of days for zip file to self-destruct: \"))\n",
    "        self_destruct_time = time.time() + days * 24 * 60 * 60\n",
    "        while True:\n",
    "            if time.time() > self_destruct_time:\n",
    "                os.remove(df_zip)\n",
    "                print(f\"{datetime.datetime.now().strftime('%Y-%m-%d %H:%M:%S')} - Zip file deleted due to self-destruct timer.\")\n",
    "                break\n",
    "            time.sleep(5)\n"
   ]
  },
  {
   "cell_type": "code",
   "execution_count": 3,
   "id": "5d8ac62e-e9c1-436e-9c70-e26b5b2eba42",
   "metadata": {},
   "outputs": [],
   "source": [
    "from zipminator.zipit import Zipndel\n",
    "import pandas as pd\n",
    "import getpass\n",
    "import zipfile\n",
    "import os"
   ]
  },
  {
   "cell_type": "code",
   "execution_count": 4,
   "id": "7d42aed7-7706-4fed-9e12-b77d56c0aefa",
   "metadata": {},
   "outputs": [
    {
     "name": "stdout",
     "output_type": "stream",
     "text": [
      "Password: ········\n",
      "updating: df (stored 0%)\n"
     ]
    }
   ],
   "source": [
    "zipndel = Zipndel(file_name='df', file_format='csv')\n",
    "df = pd.DataFrame({'A': [1, 2, 3], 'B': [4, 5, 6], 'C': [7, 8, 9]})\n",
    "zipndel.zipit(df)"
   ]
  },
  {
   "cell_type": "code",
   "execution_count": 6,
   "id": "9ef4ef83-461a-44a0-885c-bf7bfbaacd43",
   "metadata": {},
   "outputs": [],
   "source": [
    "import zipfile\n",
    "import os\n",
    "import getpass\n",
    "import time\n",
    "import datetime\n",
    "import pandas as pd\n",
    "\n",
    "class Zipndel:\n",
    "    def __init__(self, file_name: str = 'df', file_format: str = 'csv'):\n",
    "        \"\"\"\n",
    "        Initialize Zipndel object.\n",
    "\n",
    "        Parameters:\n",
    "        file_name (str): the name of the file to be written, default is 'df'\n",
    "        file_format (str): the file format of the file to be written, default is 'csv'\n",
    "        \"\"\"\n",
    "        self.file_name = file_name\n",
    "        self.file_format = file_format\n",
    "\n",
    "    def zipit(self, df: pd.DataFrame) -> None:\n",
    "        \"\"\"\n",
    "        Write the input dataframe to a file, create a zip file with the written file, set a password for the zip file, and delete the written file.\n",
    "\n",
    "        Parameters:\n",
    "        df (pd.DataFrame): the input dataframe to be written to file and zipped\n",
    "\n",
    "        Example:\n",
    "        >>> df = pd.DataFrame({'A': [1, 2, 3], 'B': [4, 5, 6], 'C': [7, 8, 9]})\n",
    "        >>> Zipndel().zipit(df)\n",
    "        \"\"\"\n",
    "        # write dataframe to a pandas supported file\n",
    "        write_func = getattr(df, f'to_{self.file_format}')\n",
    "        write_func(self.file_name, index=False)\n",
    "\n",
    "        # create zip file and add the written file to it\n",
    "        df_zip = f\"{self.file_name}.zip\"\n",
    "        zf = zipfile.ZipFile(df_zip, mode='w')\n",
    "        try:\n",
    "            zf.write(self.file_name, compress_type=zipfile.ZIP_DEFLATED)\n",
    "        finally:\n",
    "            zf.close()\n",
    "\n",
    "        # set password for zip file\n",
    "        passwd = getpass.getpass('Password:')\n",
    "        os.system(f'zip --password {passwd} {df_zip} {self.file_name}')\n",
    "\n",
    "        # delete written file\n",
    "        os.remove(self.file_name)\n",
    "\n",
    "    def self_destruct(self, hours: int, minutes: int, seconds: int) -> None:\n",
    "        \"\"\"\n",
    "        Set the self-destruct timer for the zip file.\n",
    "\n",
    "        Parameters:\n",
    "        hours (int): number of hours until self-destruct\n",
    "        minutes (int): number of minutes until self-destruct\n",
    "        seconds (int): number of seconds until self-destruct\n",
    "        \"\"\"\n",
    "        df_zip = f\"{self.file_name}.zip\"\n",
    "        self_destruct_time = time.time() + hours * 60 * 60 + minutes * 60 + seconds\n",
    "        while True:\n",
    "            if time.time() > self_destruct_time:\n",
    "                os.remove(df_zip)\n",
    "                print(f\"{datetime.datetime.now().strftime('%Y-%m-%d %H:%M:%S')} - Zip file deleted due to self-destruct timer.\")\n",
    "                break\n",
    "            time.sleep(5)\n"
   ]
  },
  {
   "cell_type": "code",
   "execution_count": null,
   "id": "eff47604-ee3b-4220-93bd-44410cbcd5c9",
   "metadata": {},
   "outputs": [],
   "source": []
  },
  {
   "cell_type": "code",
   "execution_count": 1,
   "id": "c7546c99-6551-4956-8648-115f8f7fcee2",
   "metadata": {},
   "outputs": [
    {
     "ename": "NameError",
     "evalue": "name 'Zipndel' is not defined",
     "output_type": "error",
     "traceback": [
      "\u001b[0;31m---------------------------------------------------------------------------\u001b[0m",
      "\u001b[0;31mNameError\u001b[0m                                 Traceback (most recent call last)",
      "Cell \u001b[0;32mIn [1], line 1\u001b[0m\n\u001b[0;32m----> 1\u001b[0m zipndel \u001b[38;5;241m=\u001b[39m \u001b[43mZipndel\u001b[49m(file_name\u001b[38;5;241m=\u001b[39m\u001b[38;5;124m'\u001b[39m\u001b[38;5;124mdf\u001b[39m\u001b[38;5;124m'\u001b[39m, file_format\u001b[38;5;241m=\u001b[39m\u001b[38;5;124m'\u001b[39m\u001b[38;5;124mcsv\u001b[39m\u001b[38;5;124m'\u001b[39m)\n\u001b[1;32m      2\u001b[0m df \u001b[38;5;241m=\u001b[39m pd\u001b[38;5;241m.\u001b[39mDataFrame({\u001b[38;5;124m'\u001b[39m\u001b[38;5;124mA\u001b[39m\u001b[38;5;124m'\u001b[39m: [\u001b[38;5;241m1\u001b[39m, \u001b[38;5;241m2\u001b[39m, \u001b[38;5;241m3\u001b[39m], \u001b[38;5;124m'\u001b[39m\u001b[38;5;124mB\u001b[39m\u001b[38;5;124m'\u001b[39m: [\u001b[38;5;241m4\u001b[39m, \u001b[38;5;241m5\u001b[39m, \u001b[38;5;241m6\u001b[39m], \u001b[38;5;124m'\u001b[39m\u001b[38;5;124mC\u001b[39m\u001b[38;5;124m'\u001b[39m: [\u001b[38;5;241m7\u001b[39m, \u001b[38;5;241m8\u001b[39m, \u001b[38;5;241m9\u001b[39m]})\n\u001b[1;32m      3\u001b[0m zipndel\u001b[38;5;241m.\u001b[39mzipit(df)\n",
      "\u001b[0;31mNameError\u001b[0m: name 'Zipndel' is not defined"
     ]
    }
   ],
   "source": [
    "zipndel = Zipndel(file_name='df', file_format='csv')\n",
    "df = pd.DataFrame({'A': [1, 2, 3], 'B': [4, 5, 6], 'C': [7, 8, 9]})\n",
    "zipndel.zipit(df)\n",
    "zipndel.self_destruct(0, 0, 18)\n"
   ]
  },
  {
   "cell_type": "code",
   "execution_count": 2,
   "id": "a35ed2fe-d9be-44d9-9fb5-3a697fe6a8ce",
   "metadata": {},
   "outputs": [
    {
     "ename": "ModuleNotFoundError",
     "evalue": "No module named 'zipminator'",
     "output_type": "error",
     "traceback": [
      "\u001b[0;31m---------------------------------------------------------------------------\u001b[0m",
      "\u001b[0;31mModuleNotFoundError\u001b[0m                       Traceback (most recent call last)",
      "Cell \u001b[0;32mIn[2], line 1\u001b[0m\n\u001b[0;32m----> 1\u001b[0m \u001b[38;5;28;01mfrom\u001b[39;00m \u001b[38;5;21;01mzipminator\u001b[39;00m \u001b[38;5;28;01mimport\u001b[39;00m Zipndel, Unzipndel\n\u001b[1;32m      2\u001b[0m df \u001b[38;5;241m=\u001b[39m pd\u001b[38;5;241m.\u001b[39mDataFrame({\u001b[38;5;124m'\u001b[39m\u001b[38;5;124mA\u001b[39m\u001b[38;5;124m'\u001b[39m: [\u001b[38;5;241m1\u001b[39m, \u001b[38;5;241m2\u001b[39m, \u001b[38;5;241m3\u001b[39m], \u001b[38;5;124m'\u001b[39m\u001b[38;5;124mB\u001b[39m\u001b[38;5;124m'\u001b[39m: [\u001b[38;5;241m4\u001b[39m, \u001b[38;5;241m5\u001b[39m, \u001b[38;5;241m6\u001b[39m], \u001b[38;5;124m'\u001b[39m\u001b[38;5;124mC\u001b[39m\u001b[38;5;124m'\u001b[39m: [\u001b[38;5;241m7\u001b[39m, \u001b[38;5;241m8\u001b[39m, \u001b[38;5;241m9\u001b[39m]})\n\u001b[1;32m      3\u001b[0m zipndel \u001b[38;5;241m=\u001b[39m Zipndel(file_name\u001b[38;5;241m=\u001b[39m\u001b[38;5;124m'\u001b[39m\u001b[38;5;124mdf\u001b[39m\u001b[38;5;124m'\u001b[39m, file_format\u001b[38;5;241m=\u001b[39m\u001b[38;5;124m'\u001b[39m\u001b[38;5;124mcsv\u001b[39m\u001b[38;5;124m'\u001b[39m, self_destruct_time\u001b[38;5;241m=\u001b[39m(\u001b[38;5;241m0\u001b[39m, \u001b[38;5;241m0\u001b[39m, \u001b[38;5;241m18\u001b[39m))\n",
      "\u001b[0;31mModuleNotFoundError\u001b[0m: No module named 'zipminator'"
     ]
    }
   ],
   "source": [
    "from zipminator import Zipndel, Unzipndel\n",
    "df = pd.DataFrame({'A': [1, 2, 3], 'B': [4, 5, 6], 'C': [7, 8, 9]})\n",
    "zipndel = Zipndel(file_name='df', file_format='csv', self_destruct_time=(0, 0, 18))\n",
    "zipndel.zipit(df)\n",
    "unzipndel = Unzipndel(file_name='df', file_format='csv')\n",
    "passwd = getpass.getpass('Password:')\n",
    "df = unzipndel.unzipit(passwd=passwd)\n",
    "print(df.head())"
   ]
  },
  {
   "cell_type": "code",
   "execution_count": null,
   "id": "b14af4a6-0330-4fdd-97be-cee0fdba900d",
   "metadata": {},
   "outputs": [],
   "source": []
  }
 ],
 "metadata": {
  "kernelspec": {
   "display_name": "zenv",
   "language": "python",
   "name": "zenv"
  },
  "language_info": {
   "codemirror_mode": {
    "name": "ipython",
    "version": 3
   },
   "file_extension": ".py",
   "mimetype": "text/x-python",
   "name": "python",
   "nbconvert_exporter": "python",
   "pygments_lexer": "ipython3",
   "version": "3.9.16"
  },
  "vscode": {
   "interpreter": {
    "hash": "aee8b7b246df8f9039afb4144a1f6fd8d2ca17a180786b69acc140d282b71a49"
   }
  },
  "widgets": {
   "application/vnd.jupyter.widget-state+json": {
    "state": {},
    "version_major": 2,
    "version_minor": 0
   }
  }
 },
 "nbformat": 4,
 "nbformat_minor": 5
}
