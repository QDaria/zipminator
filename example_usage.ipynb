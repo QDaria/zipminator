{
 "cells": [
  {
   "cell_type": "markdown",
   "id": "1873ef07-acfb-4941-b902-95ecac759cea",
   "metadata": {},
   "source": [
    "# Example usage"
   ]
  },
  {
   "cell_type": "markdown",
   "id": "aa36044b-4074-4a29-97d7-f55359647e9b",
   "metadata": {},
   "source": [
    "## zipit"
   ]
  },
  {
   "cell_type": "code",
   "execution_count": 1,
   "id": "62a798e8-34d5-4821-be1c-a603fcc17641",
   "metadata": {},
   "outputs": [],
   "source": [
    "from zipminator.zipit import Zipndel\n",
    "import pandas as pd\n",
    "import getpass\n",
    "import zipfile\n",
    "import os"
   ]
  },
  {
   "cell_type": "markdown",
   "id": "99df8a23-9054-40d5-8e72-9363ec764128",
   "metadata": {},
   "source": [
    "### create instance of Zipndel and call zipit method"
   ]
  },
  {
   "cell_type": "code",
   "execution_count": 2,
   "id": "5e1ed274-3268-4dea-ad08-32903fbff626",
   "metadata": {},
   "outputs": [
    {
     "name": "stdin",
     "output_type": "stream",
     "text": [
      "Password: ········\n"
     ]
    },
    {
     "name": "stdout",
     "output_type": "stream",
     "text": [
      "updating: df (stored 0%)\n"
     ]
    }
   ],
   "source": [
    "zipndel = Zipndel(file_name='df', file_format='csv')\n",
    "df = pd.DataFrame({'A': [1, 2, 3], 'B': [4, 5, 6], 'C': [7, 8, 9]})\n",
    "zipndel.zipit(df)"
   ]
  },
  {
   "cell_type": "markdown",
   "id": "5add7785-74ed-47ad-9d8e-c01f4cb139ab",
   "metadata": {},
   "source": [
    "## unzipit"
   ]
  },
  {
   "cell_type": "markdown",
   "id": "d2aa5282-6226-4e0b-837a-70bd86609b81",
   "metadata": {},
   "source": [
    "### create instance of Unzipndel and call unzipit method"
   ]
  },
  {
   "cell_type": "code",
   "execution_count": 5,
   "id": "d5260875-5b83-482e-ac29-393ee8081e0b",
   "metadata": {},
   "outputs": [],
   "source": [
    "from zipminator.unzipit import Unzipndel"
   ]
  },
  {
   "cell_type": "code",
   "execution_count": 6,
   "id": "c9f075f8-ed6d-4931-a451-d53a2b3a984e",
   "metadata": {},
   "outputs": [
    {
     "name": "stdin",
     "output_type": "stream",
     "text": [
      "Password: ········\n"
     ]
    },
    {
     "data": {
      "text/html": [
       "<div>\n",
       "<style scoped>\n",
       "    .dataframe tbody tr th:only-of-type {\n",
       "        vertical-align: middle;\n",
       "    }\n",
       "\n",
       "    .dataframe tbody tr th {\n",
       "        vertical-align: top;\n",
       "    }\n",
       "\n",
       "    .dataframe thead th {\n",
       "        text-align: right;\n",
       "    }\n",
       "</style>\n",
       "<table border=\"1\" class=\"dataframe\">\n",
       "  <thead>\n",
       "    <tr style=\"text-align: right;\">\n",
       "      <th></th>\n",
       "      <th>A</th>\n",
       "      <th>B</th>\n",
       "      <th>C</th>\n",
       "    </tr>\n",
       "  </thead>\n",
       "  <tbody>\n",
       "    <tr>\n",
       "      <th>0</th>\n",
       "      <td>1</td>\n",
       "      <td>4</td>\n",
       "      <td>7</td>\n",
       "    </tr>\n",
       "    <tr>\n",
       "      <th>1</th>\n",
       "      <td>2</td>\n",
       "      <td>5</td>\n",
       "      <td>8</td>\n",
       "    </tr>\n",
       "    <tr>\n",
       "      <th>2</th>\n",
       "      <td>3</td>\n",
       "      <td>6</td>\n",
       "      <td>9</td>\n",
       "    </tr>\n",
       "  </tbody>\n",
       "</table>\n",
       "</div>"
      ],
      "text/plain": [
       "   A  B  C\n",
       "0  1  4  7\n",
       "1  2  5  8\n",
       "2  3  6  9"
      ]
     },
     "execution_count": 6,
     "metadata": {},
     "output_type": "execute_result"
    }
   ],
   "source": [
    "unzipndel = Unzipndel(file_name='df', file_format='csv')\n",
    "df = unzipndel.unzipit()\n",
    "df"
   ]
  },
  {
   "cell_type": "code",
   "execution_count": null,
   "id": "8423fc4e-9b9d-4736-9bba-f9bb64b029b7",
   "metadata": {},
   "outputs": [],
   "source": []
  }
 ],
 "metadata": {
  "kernelspec": {
   "display_name": "Python 3 (ipykernel)",
   "language": "python",
   "name": "python3"
  },
  "language_info": {
   "codemirror_mode": {
    "name": "ipython",
    "version": 3
   },
   "file_extension": ".py",
   "mimetype": "text/x-python",
   "name": "python",
   "nbconvert_exporter": "python",
   "pygments_lexer": "ipython3",
   "version": "3.11.1"
  }
 },
 "nbformat": 4,
 "nbformat_minor": 5
}
